{
  "cells": [
    {
      "cell_type": "markdown",
      "metadata": {
        "id": "Ldt_dwp7Wr9_"
      },
      "source": [
        "1\\. **Hurricanes per Year**\n",
        "\n",
        "The number of hurricanes in 2005 was 15. The historic average is 6.3. Is this number signficantly different?\n",
        "- Assume the number of hurricanes is random, i.e. follows the Poisson distribution.\n",
        "- Assume as statistically significant a probability that has a Z score of 3 or larger with respect a normal distribution.\n",
        "\n",
        "**Hint**: compute the probability that in a single year are observed 15 or more hurricances."
      ]
    },
    {
      "cell_type": "code",
      "execution_count": 1,
      "metadata": {
        "id": "pOcnA6f4Wr-H"
      },
      "outputs": [],
      "source": [
        "from scipy.stats import poisson\n",
        "import numpy as np\n",
        "import matplotlib.pyplot as plt\n",
        "import pandas as pd\n",
        "from math import sqrt, pi, erf\n",
        "from scipy import stats, optimize\n",
        "from scipy.optimize import curve_fit\n",
        "from scipy.stats import norm"
      ]
    },
    {
      "cell_type": "code",
      "execution_count": 2,
      "metadata": {
        "id": "zeDoCjhWWr-J"
      },
      "outputs": [],
      "source": [
        "x0 = 15\n",
        "sigma = 2.5\n",
        "x_rvs = poisson.rvs(6.3, size=200000, random_state=0)\n",
        "mu = x_rvs.mean()"
      ]
    },
    {
      "cell_type": "code",
      "execution_count": 4,
      "metadata": {
        "colab": {
          "base_uri": "https://localhost:8080/"
        },
        "id": "4_y-5ZOPWr-K",
        "outputId": "224715e9-12d3-438b-a10e-6aea46897977"
      },
      "outputs": [
        {
          "output_type": "stream",
          "name": "stdout",
          "text": [
            "Z = 3.477708\n",
            "p-value = 0.0005057205111107357\n"
          ]
        }
      ],
      "source": [
        "Z = abs(x0 - mu) / sigma\n",
        "print(\"Z =\", Z)\n",
        "p_value = stats.norm.cdf(-Z) + (1. - stats.norm.cdf(Z))\n",
        "print(\"p-value =\", p_value)"
      ]
    },
    {
      "cell_type": "markdown",
      "metadata": {
        "id": "3CF6SMk2Wr-L"
      },
      "source": [
        "2\\. **Pairwise t-test**\n",
        "\n",
        "In an experiment, a group of 10 individuals agreed to participate in a study of blood pressure changes following exposure to halogen lighting. Resting systolic blood pressure was recorded for each individual. The participants were then exposed to 20 minutes in a room lit only by halogen lamps. A post-exposure systolic blood pressure reading was recorded for each individual. The results are presented in the following data set:\n",
        "\n",
        "```python\n",
        "pre = np.array([120, 132, 120, 110, 115, 128, 120, 112, 110, 100])\n",
        "post = np.array([140, 156, 145, 130, 117, 148, 137, 119, 127, 135])\n",
        "```\n",
        "\n",
        "Determine whether the change in blood pressures within our sample was statistically significant.\n",
        "\n",
        "**Hint:**\n",
        "in this case, the Student's $t$-test should be performed to compare the two datasets.\n",
        "Use the following test statistics:\n",
        "\n",
        "$$T = \\frac{\\bar{x}_1 - \\bar{x}_2}{\\sigma \\sqrt{\\frac{2}{n}}}$$\n",
        "\n",
        "and \n",
        "\n",
        "$$\\sigma = \\sqrt{\\frac{\\sigma_1^2 + \\sigma_2^2}{2}}$$"
      ]
    },
    {
      "cell_type": "code",
      "execution_count": 5,
      "metadata": {
        "id": "NW5SyXHVWr-M"
      },
      "outputs": [],
      "source": [
        "pre = np.array([120, 132, 120, 110, 115, 128, 120, 112, 110, 100])\n",
        "post = np.array([140, 156, 145, 130, 117, 148, 137, 119, 127, 135])"
      ]
    },
    {
      "cell_type": "code",
      "execution_count": 7,
      "metadata": {
        "colab": {
          "base_uri": "https://localhost:8080/"
        },
        "id": "Ug1HZGoeWr-M",
        "outputId": "27ac709b-893f-4b0d-a717-1d72a9123c6c"
      },
      "outputs": [
        {
          "output_type": "stream",
          "name": "stdout",
          "text": [
            "T = -5.355623844793182\n"
          ]
        }
      ],
      "source": [
        "sigma = np.sqrt(((np.sqrt(np.var(pre, ddof=1)) **2)+( np.sqrt(np.var(post, ddof=1)) **2))/2)\n",
        "sample_mean1 = np.mean(pre)\n",
        "sample_mean2 = np.mean(post)\n",
        "n = len(pre)\n",
        "T = (sample_mean1 - sample_mean2) / (sigma / np.sqrt(n))\n",
        "print(\"T =\", T)"
      ]
    },
    {
      "cell_type": "code",
      "execution_count": 9,
      "metadata": {
        "colab": {
          "base_uri": "https://localhost:8080/",
          "height": 334
        },
        "id": "UiJPYS8YWr-N",
        "outputId": "c88d9b09-c945-4e50-854c-a693271e5fc9"
      },
      "outputs": [
        {
          "output_type": "display_data",
          "data": {
            "text/plain": [
              "<Figure size 1440x360 with 1 Axes>"
            ],
            "image/png": "[encoded data removed]"
          },
          "metadata": {
            "needs_background": "light"
          }
        }
      ],
      "source": [
        "xs = np.linspace(-10, +10, 1000)\n",
        "ts = stats.t.pdf(xs, n - 1)\n",
        "plt.figure(figsize=(20,5))\n",
        "plt.plot(xs, ts)\n",
        "plt.fill_between(xs, ts, where=np.abs(xs) > np.abs(T))\n",
        "plt.axvline(T, linestyle='--')\n",
        "plt.axvline(-T, linestyle='--')\n",
        "plt.ylabel(\"a.u.\")\n",
        "plt.xlabel(\"t\")\n",
        "plt.show()"
      ]
    },
    {
      "cell_type": "code",
      "execution_count": 12,
      "metadata": {
        "colab": {
          "base_uri": "https://localhost:8080/"
        },
        "id": "09_zcEEBWr-O",
        "outputId": "5534f4fc-3ea0-4ef8-e83d-0c7084c9cb0c"
      },
      "outputs": [
        {
          "output_type": "stream",
          "name": "stdout",
          "text": [
            "p-value = 0.00045894515934558235\n"
          ]
        }
      ],
      "source": [
        "p_value = stats.t.cdf(T, n - 1) + (1. - stats.t.cdf(-T, n - 1))\n",
        "print(\"p-value = {}\".format(p_value))"
      ]
    },
    {
      "cell_type": "markdown",
      "metadata": {
        "id": "pM0IV_NDWr-P"
      },
      "source": [
        "3\\. **Curve fitting of temperature in Alaska** \n",
        "\n",
        "The temperature extremes in Alaska for each month, starting in January, are given by (in degrees Celcius):\n",
        "\n",
        "max:  `17,  19,  21,  28,  33,  38, 37,  37,  31,  23,  19,  18`\n",
        "\n",
        "min: `-62, -59, -56, -46, -32, -18, -9, -13, -25, -46, -52, -58`\n",
        "\n",
        "* Plot these temperatures.\n",
        "* Find a suitable a function that can describe min and max temperatures. \n",
        "* Fit this function to the data with `scipy.optimize.curve_fit()`.\n",
        "* Plot the result. Is the fit reasonable? If not, why?\n",
        "* Is the time offset for min and max temperatures the same within the fit accuracy?"
      ]
    },
    {
      "cell_type": "code",
      "execution_count": 13,
      "metadata": {
        "id": "bQJSNJ0zWr-P"
      },
      "outputs": [],
      "source": [
        "t_max = np.array([17,  19,  21,  28,  33,  38, 37,  37,  31,  23,  19,  18])\n",
        "t_min = np.array([-62, -59, -56, -46, -32, -18, -9, -13, -25, -46, -52, -58])"
      ]
    },
    {
      "cell_type": "code",
      "execution_count": 17,
      "metadata": {
        "colab": {
          "base_uri": "https://localhost:8080/",
          "height": 352
        },
        "id": "Z_MVDEWpWr-Q",
        "outputId": "38ce37ce-6dfb-4d3b-8570-172f3b9d82bc"
      },
      "outputs": [
        {
          "output_type": "execute_result",
          "data": {
            "text/plain": [
              "Text(0, 0.5, 'Temperatures')"
            ]
          },
          "metadata": {},
          "execution_count": 17
        },
        {
          "output_type": "display_data",
          "data": {
            "text/plain": [
              "<Figure size 1440x360 with 1 Axes>"
            ],
            "image/png": "[encoded data removed]"
          },
          "metadata": {
            "needs_background": "light"
          }
        }
      ],
      "source": [
        "months = np.arange(12)\n",
        "plt.figure(figsize=(20,5))\n",
        "plt.plot(months, t_max)\n",
        "plt.plot(months, t_min)\n",
        "plt.xlabel('Month')\n",
        "plt.ylabel('Temperatures')"
      ]
    },
    {
      "cell_type": "code",
      "execution_count": 15,
      "metadata": {
        "id": "aL9amm8-Wr-Q"
      },
      "outputs": [],
      "source": [
        "def yearly_temps(times, avg, ampl, time_offset):\n",
        "    return (avg + ampl * np.cos((times + time_offset) * 2 * np.pi / times.max()))\n",
        "\n",
        "res_max, cov_max = optimize.curve_fit(yearly_temps, months, t_max, [20, 10, 0])\n",
        "res_min, cov_min = optimize.curve_fit(yearly_temps, months, t_min, [-40, 20, 0])"
      ]
    },
    {
      "cell_type": "code",
      "execution_count": 18,
      "metadata": {
        "colab": {
          "base_uri": "https://localhost:8080/",
          "height": 334
        },
        "id": "AUQsfoPeWr-R",
        "outputId": "567f179d-ec6c-4b78-ad77-cd5c858b2b45"
      },
      "outputs": [
        {
          "output_type": "display_data",
          "data": {
            "text/plain": [
              "<Figure size 1440x360 with 1 Axes>"
            ],
            "image/png": "[encoded data removed]"
          },
          "metadata": {
            "needs_background": "light"
          }
        }
      ],
      "source": [
        "days = np.linspace(0, 12, num=365)\n",
        "plt.figure(figsize=(20,5))\n",
        "plt.plot(months, t_max, 'ro')\n",
        "plt.plot(days, yearly_temps(days, *res_max), 'r-')\n",
        "plt.plot(months, t_min, 'bo')\n",
        "plt.plot(days, yearly_temps(days, *res_min), 'b-')\n",
        "plt.xlabel('Month')\n",
        "plt.ylabel('Temperature ($^\\circ$C)')\n",
        "plt.show()"
      ]
    },
    {
      "cell_type": "markdown",
      "metadata": {
        "id": "VJWXqC2rWr-R"
      },
      "source": [
        "4\\. **Fit the residues**\n",
        "\n",
        "Read the `data/residuals_261.pkl` file. If you haven't got it already, download it from here:\n",
        "\n",
        "```bash\n",
        "wget https://www.dropbox.com/s/3uqleyc3wyz52tr/residuals_261.pkl -P data/\n",
        "```\n",
        "\n",
        "The feature named `residual` contains the residuals (defined as $y_i - \\hat{y}_i$) of a linear regression as a function of the independent variable `distances`.\n",
        "\n",
        "- Considering only the \"residual\" feature, create an histogram with the appropriate binning and plot it.\n",
        "- Set the appropriate Poisson uncertainty for each bin (thus, for each bin, $\\sigma_i = \\sqrt{n_i}$, where $n_i$ is the number of entries in each bin)\n",
        "- By looking at the distribution of the residuals, define an appropriate function and fit it to the histogram of the residuals\n",
        "- Perform a goodness-of-fit test. Is the p-value of the fit satisfactory?"
      ]
    },
    {
      "cell_type": "code",
      "source": [
        "!wget https://www.dropbox.com/s/3uqleyc3wyz52tr/residuals_261.pkl -P data/"
      ],
      "metadata": {
        "colab": {
          "base_uri": "https://localhost:8080/"
        },
        "id": "ymfLtLcOX68o",
        "outputId": "46ffca84-cb18-4529-9d2e-2b0c8b6ec597"
      },
      "execution_count": 20,
      "outputs": [
        {
          "output_type": "stream",
          "name": "stdout",
          "text": [
            "--2023-01-20 22:49:51--  https://www.dropbox.com/s/3uqleyc3wyz52tr/residuals_261.pkl\n",
            "Resolving www.dropbox.com (www.dropbox.com)... 162.125.80.18, 2620:100:6035:18::a27d:5512\n",
            "Connecting to www.dropbox.com (www.dropbox.com)|162.125.80.18|:443... connected.\n",
            "HTTP request sent, awaiting response... 302 Found\n",
            "Location: /s/raw/3uqleyc3wyz52tr/residuals_261.pkl [following]\n",
            "--2023-01-20 22:49:51--  https://www.dropbox.com/s/raw/3uqleyc3wyz52tr/residuals_261.pkl\n",
            "Reusing existing connection to www.dropbox.com:443.\n",
            "HTTP request sent, awaiting response... 302 Found\n",
            "Location: https://ucfb77bff2e6ad0f414943e78a20.dl.dropboxusercontent.com/cd/0/inline/B09oA7b20P3XzgKddEkRzdoePrOczeokkj3lHg_HPBm6JbpgwvWTwAPNNcjBhBjUpaMCl1QfdoU6SsEIeRwXUH6n8atBiW3pmNQ9O8ZG4U-isfpih21Cf4A-cJYaXiHDyJcoDaa_hvbYxj6A37naAHfpEe7b7tt2WnmSzRF3nBmawQ/file# [following]\n",
            "--2023-01-20 22:49:52--  https://ucfb77bff2e6ad0f414943e78a20.dl.dropboxusercontent.com/cd/0/inline/B09oA7b20P3XzgKddEkRzdoePrOczeokkj3lHg_HPBm6JbpgwvWTwAPNNcjBhBjUpaMCl1QfdoU6SsEIeRwXUH6n8atBiW3pmNQ9O8ZG4U-isfpih21Cf4A-cJYaXiHDyJcoDaa_hvbYxj6A37naAHfpEe7b7tt2WnmSzRF3nBmawQ/file\n",
            "Resolving ucfb77bff2e6ad0f414943e78a20.dl.dropboxusercontent.com (ucfb77bff2e6ad0f414943e78a20.dl.dropboxusercontent.com)... 162.125.1.15, 2620:100:6035:15::a27d:550f\n",
            "Connecting to ucfb77bff2e6ad0f414943e78a20.dl.dropboxusercontent.com (ucfb77bff2e6ad0f414943e78a20.dl.dropboxusercontent.com)|162.125.1.15|:443... connected.\n",
            "HTTP request sent, awaiting response... 302 Found\n",
            "Location: /cd/0/inline2/B09glKoct93qU2YcvVNH0BvCYCCpgSI-ISeoDImJtlPqQmbtA_Aa1I4z1vqFnYOrRd5gRPRAQIbymbsamc3SZpe1DtHVbQ8LYN9JTLe3TMrb3BXsMQGAI0GDSyQY-kiay7hkFgEvJwKMXo1FXWzD7dhOdo2tdqq-lcdBqOfMEHm9QoCtP8M6hbXftc-Q9eG99ngMB6QlZEIWhctYg-f_L1dNX88FV-mMV66I2ndA8DB4iSt_zV6SpaG7lnjiszTYtlppvHzEy_XSgnBWYYEPtFeaa_EhFDRJWbiFkJKb2rjNFycyIGJNsh5ZvamwZ9GrLeQ3HIJS-AyYnAnVWIDCQ3hWeLXK-sngXJG4ztRgD1C1K053cDpoRRpK9odN32Jzw79qoYZ3WgY3SzvYNibOT5sV4_LUdBGt20ZJXiEejUX1xA/file [following]\n",
            "--2023-01-20 22:49:52--  https://ucfb77bff2e6ad0f414943e78a20.dl.dropboxusercontent.com/cd/0/inline2/B09glKoct93qU2YcvVNH0BvCYCCpgSI-ISeoDImJtlPqQmbtA_Aa1I4z1vqFnYOrRd5gRPRAQIbymbsamc3SZpe1DtHVbQ8LYN9JTLe3TMrb3BXsMQGAI0GDSyQY-kiay7hkFgEvJwKMXo1FXWzD7dhOdo2tdqq-lcdBqOfMEHm9QoCtP8M6hbXftc-Q9eG99ngMB6QlZEIWhctYg-f_L1dNX88FV-mMV66I2ndA8DB4iSt_zV6SpaG7lnjiszTYtlppvHzEy_XSgnBWYYEPtFeaa_EhFDRJWbiFkJKb2rjNFycyIGJNsh5ZvamwZ9GrLeQ3HIJS-AyYnAnVWIDCQ3hWeLXK-sngXJG4ztRgD1C1K053cDpoRRpK9odN32Jzw79qoYZ3WgY3SzvYNibOT5sV4_LUdBGt20ZJXiEejUX1xA/file\n",
            "Reusing existing connection to ucfb77bff2e6ad0f414943e78a20.dl.dropboxusercontent.com:443.\n",
            "HTTP request sent, awaiting response... 200 OK\n",
            "Length: 178390 (174K) [application/octet-stream]\n",
            "Saving to: ‘data/residuals_261.pkl’\n",
            "\n",
            "residuals_261.pkl   100%[===================>] 174.21K   397KB/s    in 0.4s    \n",
            "\n",
            "2023-01-20 22:49:53 (397 KB/s) - ‘data/residuals_261.pkl’ saved [178390/178390]\n",
            "\n"
          ]
        }
      ]
    },
    {
      "cell_type": "markdown",
      "source": [
        "# New Section"
      ],
      "metadata": {
        "id": "7tvDDKG9X9kq"
      }
    },
    {
      "cell_type": "code",
      "execution_count": 21,
      "metadata": {
        "id": "3twgsa3aWr-S"
      },
      "outputs": [],
      "source": [
        "data = np.load(\"data/residuals_261.pkl\",allow_pickle=True).item()\n",
        "data = pd.DataFrame(data, columns=['residuals'])"
      ]
    },
    {
      "cell_type": "code",
      "execution_count": null,
      "metadata": {
        "id": "puwQoHhHWr-S"
      },
      "outputs": [],
      "source": [
        "(n, bins, patches) = plt.hist(data,bins='auto',align='mid',range=(-8,1))\n",
        "\n",
        "x = np.linspace(bins[0], bins[len(n)-1], len(n)+1)\n",
        "sigma = (np.sqrt(n[i]) for i in range(len(n)))"
      ]
    },
    {
      "cell_type": "code",
      "execution_count": null,
      "metadata": {
        "id": "5ndgbQs9Wr-S"
      },
      "outputs": [],
      "source": [
        "def custom_function(x, A, mean, sigma):\n",
        "    return A * np.exp(-(x - mean) ** 2 / (2 * sigma ** 2))"
      ]
    },
    {
      "cell_type": "code",
      "execution_count": null,
      "metadata": {
        "id": "9eZsCQWUWr-S"
      },
      "outputs": [],
      "source": [
        "(mu, sigma) = norm.fit(data)\n",
        "par, cov = optimize.curve_fit(custom_function, x, bins, p0=(1, mu, sigma))\n",
        "\n",
        "plt.figure(figsize=(20,5))\n",
        "plt.plot(x, custom_function(x, *par), 'r-')\n",
        "\n",
        "plt.show()\n",
        "data\n",
        "plt.hist(data,bins=15)"
      ]
    },
    {
      "cell_type": "markdown",
      "metadata": {
        "id": "_5CzzFqhWr-T"
      },
      "source": [
        "5\\. **Temperatures in Munich**\n",
        "\n",
        "Get the following data file:\n",
        "\n",
        "```bash\n",
        "https://www.dropbox.com/s/7gy9yjl00ymxb8h/munich_temperatures_average_with_bad_data.txt\n",
        "```\n",
        "\n",
        "which gives the temperature in Munich every day for several years.\n",
        "\n",
        "\n",
        "Fit the following function to the data:\n",
        "\n",
        "$$f(t) = a \\cos(2\\pi t + b)+c$$\n",
        "\n",
        "where $t$ is the time in years.\n",
        "\n",
        "- Make a plot of the data and the best-fit model in the range 2008 to 2012.\n",
        "\n",
        "   - What are the best-fit values of the parameters?\n",
        "\n",
        "   - What is the overall average temperature in Munich, and what are the typical daily average values predicted by the model for the coldest and hottest time of year?\n",
        "\n",
        "   - What is the meaning of the $b$ parameter, and what physical sense does it have?\n",
        "\n",
        "\n",
        "- Now fit the data with the function $g(x)$, which has 1 more parameter than $f(x)$.\n",
        "$$g(x) = a \\cos(2\\pi b t + c)+d$$\n",
        "   - What are the RSS for $f(x)$ and $g(x)$?\n",
        "   - Use the Fisher F-test to determine whether the additional parameter is motivated."
      ]
    },
    {
      "cell_type": "code",
      "execution_count": null,
      "metadata": {
        "id": "napB-6tZWr-T"
      },
      "outputs": [],
      "source": [
        "d, temp = np.loadtxt('munich_temperatures_average_with_bad_data.txt', unpack=True)"
      ]
    },
    {
      "cell_type": "code",
      "execution_count": null,
      "metadata": {
        "id": "07yd_F-9Wr-T"
      },
      "outputs": [],
      "source": [
        "def f2(t, a, c, d):\n",
        "    return a * np.cos(2 * np.pi * t + c) + d\n",
        "\n",
        "popt, pcov = curve_fit(f2, d, temp)\n",
        "plt.figure(figsize=(20,5))\n",
        "plt.plot(d[4700:6300], temp[4700:6300], '.')\n",
        "xfine = np.linspace(2008, 2012, 100)\n",
        "plt.plot(xfine, f2(xfine, *popt))"
      ]
    },
    {
      "cell_type": "code",
      "execution_count": null,
      "metadata": {
        "id": "QqrqrmNmWr-U"
      },
      "outputs": [],
      "source": [
        "def g2(t, a, b, c, d):\n",
        "    return a * np.cos(2 * np.pi * t * b + c) + d\n",
        "\n",
        "popt, pcov = curve_fit(g2, d, temp)\n",
        "plt.figure(figsize=(20,5))\n",
        "plt.plot(d[4700:6300], temp[4700:6300], '.')\n",
        "xfine = np.linspace(2008, 2012, 100)\n",
        "plt.plot(xfine, g2(xfine, *popt))"
      ]
    }
  ],
  "metadata": {
    "kernelspec": {
      "display_name": "Python 3",
      "language": "python",
      "name": "python3"
    },
    "language_info": {
      "codemirror_mode": {
        "name": "ipython",
        "version": 3
      },
      "file_extension": ".py",
      "mimetype": "text/x-python",
      "name": "python",
      "nbconvert_exporter": "python",
      "pygments_lexer": "ipython3",
      "version": "3.8.5"
    },
    "colab": {
      "provenance": []
    }
  },
  "nbformat": 4,
  "nbformat_minor": 0
}